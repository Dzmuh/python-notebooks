{
 "cells": [
  {
   "cell_type": "markdown",
   "id": "2bfe576d-a177-4971-b9f2-3f975153aee1",
   "metadata": {},
   "source": [
    "# Основы программирования на Python. Первая неделя. Целые числа, ввод-вывод, простые операции со строками\n",
    "\n",
    "Цель: научится простейшему вводу-выводу данных и применению арифметических операций для целых чисел.\n"
   ]
  },
  {
   "cell_type": "markdown",
   "metadata": {},
   "source": [
    "## Типы данных и функции вывода"
   ]
  },
  {
   "cell_type": "markdown",
   "metadata": {},
   "source": [
    "### Функция вывода print()\n",
    "\n",
    "Функция вывода `print()` может служить для вывода текста и результатов арифметических операций.\n",
    "Текст обычно оборачивается в двойные кавычки, однако можно использовать и одинарные."
   ]
  },
  {
   "cell_type": "code",
   "execution_count": null,
   "metadata": {},
   "outputs": [],
   "source": [
    "print(\"Hello world!\")\n",
    "print('Hello world!')\n",
    "print(1 + 1)\n",
    "print(\"1\" + \"1\")\n",
    "print(\"Hello \" + \"world!\")"
   ]
  },
  {
   "cell_type": "markdown",
   "metadata": {},
   "source": [
    "Функция вывода `print()` позволяет совмещать текстовый вывод с арифметическими операциями, а также передавать в неё группу значений разделённых запятой."
   ]
  },
  {
   "cell_type": "code",
   "execution_count": null,
   "metadata": {},
   "outputs": [],
   "source": [
    "print(\"1 + 2 =\", 1 + 2)"
   ]
  },
  {
   "cell_type": "markdown",
   "metadata": {},
   "source": [
    "Функция вывода `print()` позволяет с помощью именованных параметров управлять выводом. Именованный параметр `sep` позволяет задать разделить который будет использоваться при их выводе. Именованный параметр `sep` позволяет задать окончание вывода. Так, например, можно избежать при выводе перевода на новую строку, что происходит по умолчанию."
   ]
  },
  {
   "cell_type": "code",
   "execution_count": null,
   "metadata": {},
   "outputs": [],
   "source": [
    "print(\"1\", \"2\", \"3\", sep=\" + \", end=\" \")\n",
    "print(\"=\", 1 + 2 + 3)"
   ]
  },
  {
   "cell_type": "markdown",
   "metadata": {},
   "source": [
    "Тот-же код без параметра `end`:"
   ]
  },
  {
   "cell_type": "code",
   "execution_count": null,
   "metadata": {},
   "outputs": [],
   "source": [
    "print(\"1\", \"2\", \"3\", sep=\" + \")\n",
    "print(\"=\", 1 + 2 + 3)"
   ]
  },
  {
   "cell_type": "markdown",
   "metadata": {},
   "source": [
    "## Переменные и арифметические выражения\n",
    "\n",
    "Рассмотрим базовые арифметические операции:\n",
    "\n",
    "* Сложение выполняемое оператором `+`\n",
    "* Вычитание выполняемое оператором `-`\n",
    "* Умножение выполняемое оператором `*`\n",
    "* Возведение в степень выполняемое оператором `**`\n",
    "* Деление выполняемое оператором `/`\n",
    "* Деление (целочисленное) выполняемое оператором `//`"
   ]
  },
  {
   "cell_type": "code",
   "execution_count": null,
   "metadata": {},
   "outputs": [],
   "source": [
    "print(1 + 2)\n",
    "print(6 - 3)\n",
    "print(1 * 3)\n",
    "print(3 ** 1)\n",
    "print(9 / 3)\n",
    "print(9 // 3)"
   ]
  },
  {
   "cell_type": "markdown",
   "metadata": {},
   "source": [
    "### Целочисленное деление\n",
    "\n",
    "Немного остановимся на операторе целочисленного деления `//`.\\\n",
    "Обратим внимание на результаты ниже. Как видим оператор `//` возвращает нам только целую часть от деления."
   ]
  },
  {
   "cell_type": "code",
   "execution_count": null,
   "metadata": {},
   "outputs": [],
   "source": [
    "print(11 // 6)\n",
    "print(12 // 6)"
   ]
  },
  {
   "cell_type": "markdown",
   "metadata": {},
   "source": [
    "### Остаток от деления\n",
    "\n",
    "Что-бы при делении получить остаток от деления, нужно использовать символ `%`."
   ]
  },
  {
   "cell_type": "code",
   "execution_count": null,
   "metadata": {},
   "outputs": [],
   "source": [
    "print(11 % 6)"
   ]
  },
  {
   "cell_type": "markdown",
   "metadata": {},
   "source": [
    "Практически пример на примере времени. Сейчас 23:00. Давайте узнаем сколько времени покажут часы через 8 часов с учётом того, что в сутках 24 часа."
   ]
  },
  {
   "cell_type": "code",
   "execution_count": null,
   "metadata": {},
   "outputs": [],
   "source": [
    "print(23 + 8)\n",
    "print((23 + 8) % 24)"
   ]
  },
  {
   "cell_type": "markdown",
   "metadata": {},
   "source": [
    "Что было за 8 часов до 7 утра."
   ]
  },
  {
   "cell_type": "code",
   "execution_count": null,
   "metadata": {},
   "outputs": [],
   "source": [
    "print((7 - 8) % 24)"
   ]
  },
  {
   "cell_type": "markdown",
   "metadata": {},
   "source": [
    "### Переменные\n",
    "\n",
    "На примере скорости и времени узнаем какое расстояние прошёл автомобиль.\n",
    "Обратим внимание на то, что мы не указываем типы переменных, Python это язык программирования с динамической типизацией и тип переменной определяется при присвоении ей значения."
   ]
  },
  {
   "cell_type": "code",
   "execution_count": null,
   "metadata": {},
   "outputs": [],
   "source": [
    "speed = 108\n",
    "time = 12\n",
    "dist = time * speed\n",
    "print(dist)"
   ]
  },
  {
   "cell_type": "markdown",
   "metadata": {},
   "source": [
    "### Скобки в арифметических выражениях\n",
    "\n",
    "Скобки позволяют задать приоритет математическим операциям."
   ]
  },
  {
   "cell_type": "code",
   "execution_count": null,
   "metadata": {},
   "outputs": [],
   "source": [
    "speed1 = 108\n",
    "speed2 = -5\n",
    "time = 12\n",
    "dist = time * (speed1 + speed2)\n",
    "print(dist)"
   ]
  }
 ],
 "metadata": {
  "interpreter": {
   "hash": "63fd5069d213b44bf678585dea6b12cceca9941eaf7f819626cde1f2670de90d"
  },
  "kernelspec": {
   "display_name": "Python 3.9.7 64-bit",
   "name": "python3"
  },
  "language_info": {
   "codemirror_mode": {
    "name": "ipython",
    "version": 3
   },
   "file_extension": ".py",
   "mimetype": "text/x-python",
   "name": "python",
   "nbconvert_exporter": "python",
   "pygments_lexer": "ipython3",
   "version": "3.9.7"
  }
 },
 "nbformat": 4,
 "nbformat_minor": 5
}
