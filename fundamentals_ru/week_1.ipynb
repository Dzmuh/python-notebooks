{
 "cells": [
  {
   "cell_type": "markdown",
   "id": "2bfe576d-a177-4971-b9f2-3f975153aee1",
   "metadata": {},
   "source": [
    "# Основы программирования на Python. Первая неделя. Целые числа, ввод-вывод, простые операции со строками\n",
    "\n",
    "Цель: научится простейшему вводу-выводу данных и применению арифметических операций для целых чисел.\n"
   ]
  },
  {
   "cell_type": "markdown",
   "metadata": {},
   "source": [
    "## Типы данных и функции вывода"
   ]
  },
  {
   "cell_type": "markdown",
   "metadata": {},
   "source": [
    "### Функция вывода print()\n",
    "\n",
    "Функция вывода `print()` может служить для вывода текста и результатов арифметических операций.\n",
    "Текст обычно оборачивается в двойные кавычки, однако можно использовать и одинарные."
   ]
  },
  {
   "cell_type": "code",
   "execution_count": null,
   "metadata": {},
   "outputs": [],
   "source": [
    "print(\"Hello world!\")\n",
    "print('Hello world!')\n",
    "print(1 + 1)\n",
    "print(\"1\" + \"1\")\n",
    "print(\"Hello \" + \"world!\")"
   ]
  },
  {
   "cell_type": "markdown",
   "metadata": {},
   "source": [
    "Функция вывода `print()` позволяет совмещать текстовый вывод с арифметическими операциями, а также передавать в неё группу значений разделённых запятой."
   ]
  },
  {
   "cell_type": "code",
   "execution_count": null,
   "metadata": {},
   "outputs": [],
   "source": [
    "print(\"1 + 2 =\", 1 + 2)"
   ]
  },
  {
   "cell_type": "markdown",
   "metadata": {},
   "source": [
    "Функция вывода `print()` позволяет с помощью именованных параметров управлять выводом. Именованный параметр `sep` позволяет задать разделить который будет использоваться при их выводе. Именованный параметр `sep` позволяет задать окончание вывода. Так, например, можно избежать при выводе перевода на новую строку, что происходит по умолчанию."
   ]
  },
  {
   "cell_type": "code",
   "execution_count": null,
   "metadata": {},
   "outputs": [],
   "source": [
    "print(\"1\", \"2\", \"3\", sep=\" + \", end=\" \")\n",
    "print(\"=\", 1 + 2 + 3)"
   ]
  },
  {
   "cell_type": "markdown",
   "metadata": {},
   "source": [
    "Тот-же код без параметра `end`:"
   ]
  },
  {
   "cell_type": "code",
   "execution_count": null,
   "metadata": {},
   "outputs": [],
   "source": [
    "print(\"1\", \"2\", \"3\", sep=\" + \")\n",
    "print(\"=\", 1 + 2 + 3)"
   ]
  },
  {
   "cell_type": "markdown",
   "metadata": {},
   "source": [
    "## Переменные и арифметические выражения\n",
    "\n",
    "Рассмотрим базовые арифметические операции:\n",
    "\n",
    "| Знак | Операция              | Операнд 1 | Операнд 2 | Результат          |\n",
    "|------|-----------------------|-----------|-----------|--------------------|\n",
    "| `+`  | Сложение              | 11        | 6         | 17                 |\n",
    "| `-`  | Вычитание             | 11        | 6         | 5                  |\n",
    "| `*`  | Умножение             | 11        | 6         | 66                 |\n",
    "| `/`  | Деление               | 11        | 6         | 1.8333333333333333 |\n",
    "| `//` | Целочисленное деление | 11        | 6         | 1                  |\n",
    "| `%`  | Остаток от деления    | 11        | 6         | 5                  |\n",
    "| `**` | Возведение в степень  | 2         | 3         | 8                  |\n",
    "\n",
    "Обратите внимание, что целые числа в Python не имеют ограничений на длину (кроме объема доступной памяти)."
   ]
  },
  {
   "cell_type": "code",
   "execution_count": null,
   "metadata": {},
   "outputs": [],
   "source": [
    "print(11 + 6)\n",
    "print(11 - 6)\n",
    "print(11 * 6)\n",
    "print(11 / 6)\n",
    "print(11 // 6)\n",
    "print(12 // 6)\n",
    "print(11 % 6)\n",
    "print(2 ** 3)"
   ]
  },
  {
   "cell_type": "markdown",
   "metadata": {},
   "source": [
    "### Целочисленное деление и остаток от деления\n",
    "\n",
    "Особо остановимся на операциях вычисления целой части и остатка от деления от числа.\n",
    "\n",
    "Пусть заданы два числа **A** и **B**, причем `B > 0`.\n",
    "Обозначим за **C** целую часть от деления **A** на **B**, `C = A // B`, а за **D** - остаток от деления **A** на **B**, `D = A % B`.\n",
    "\n",
    "Тогда должны выполняться следующие утверждения:\n",
    "\n",
    "`A = B × C + D`\n",
    "\n",
    "`0 ≤ D < B`"
   ]
  },
  {
   "cell_type": "code",
   "execution_count": null,
   "metadata": {},
   "outputs": [],
   "source": [
    "a = 11\n",
    "b = 6\n",
    "c = a // b\n",
    "d = a % b\n",
    "print(\"C =\", c)\n",
    "print(\"B =\", b)\n",
    "print(\"D =\", d)\n",
    "print(\"A =\", b * c + d)\n",
    "print(\"0 ≤\", d, \"<\", b)"
   ]
  },
  {
   "cell_type": "markdown",
   "metadata": {},
   "source": [
    "Эти утверждения необходимы для понимания процесса взятия остатка от деления отрицательного числа на положительное. Нетрудно убедиться, что если `-5` (**A**) разделить на `2` (**B**), то целая часть (**C**) должна быть равна -3, а остаток (**D**) равен 1. В некоторых других языках программирования остатки в такой ситуации могут быть отрицательными, что неправильно по математическим определениям."
   ]
  },
  {
   "cell_type": "code",
   "execution_count": null,
   "metadata": {},
   "outputs": [],
   "source": [
    "a = -5\n",
    "b = 2\n",
    "c = a // b\n",
    "d = a % b\n",
    "print(\"C =\", c)\n",
    "print(\"B =\", b)\n",
    "print(\"D =\", d)\n",
    "print(\"A =\", b * c + d)\n",
    "print(\"0 ≤\", d, \"<\", b)"
   ]
  },
  {
   "cell_type": "markdown",
   "metadata": {},
   "source": [
    "В случае, если `B < 0` выполняются следующие утверждения:\n",
    "\n",
    "`A = B × C + D`\n",
    "\n",
    "`B < D ≤ 0`"
   ]
  },
  {
   "cell_type": "code",
   "execution_count": null,
   "metadata": {},
   "outputs": [],
   "source": [
    "a = -5\n",
    "b = -2\n",
    "c = a // b\n",
    "d = a % b\n",
    "print(\"A =\", b * c + d)\n",
    "print(\"B =\", b)\n",
    "print(\"C =\", c)\n",
    "print(\"D =\", d)\n",
    "print(b, \"<\", d, \"≤ 0\")"
   ]
  },
  {
   "cell_type": "markdown",
   "metadata": {},
   "source": [
    "Практически пример на примере времени. Сейчас 23:00. Давайте узнаем сколько времени покажут часы через 8 часов с учётом того, что в сутках 24 часа."
   ]
  },
  {
   "cell_type": "code",
   "execution_count": null,
   "metadata": {},
   "outputs": [],
   "source": [
    "print(23 + 8)\n",
    "print((23 + 8) % 24)"
   ]
  },
  {
   "cell_type": "markdown",
   "metadata": {},
   "source": [
    "Что было за 8 часов до 7 утра."
   ]
  },
  {
   "cell_type": "code",
   "execution_count": null,
   "metadata": {},
   "outputs": [],
   "source": [
    "print((7 - 8) % 24)"
   ]
  },
  {
   "cell_type": "markdown",
   "metadata": {},
   "source": [
    "### Переменные\n",
    "\n",
    "На примере скорости и времени узнаем какое расстояние прошёл автомобиль.\n",
    "Обратим внимание на то, что мы не указываем типы переменных, Python это язык программирования с динамической типизацией и тип переменной определяется при присвоении ей значения."
   ]
  },
  {
   "cell_type": "code",
   "execution_count": null,
   "metadata": {},
   "outputs": [],
   "source": [
    "speed = 108\n",
    "time = 12\n",
    "dist = time * speed\n",
    "print(dist)"
   ]
  },
  {
   "cell_type": "markdown",
   "metadata": {},
   "source": [
    "### Скобки в арифметических выражениях\n",
    "\n",
    "Скобки позволяют задать приоритет математическим операциям."
   ]
  },
  {
   "cell_type": "code",
   "execution_count": null,
   "metadata": {},
   "outputs": [],
   "source": [
    "speed1 = 108\n",
    "speed2 = -5\n",
    "time = 12\n",
    "dist = time * (speed1 + speed2)\n",
    "print(dist)"
   ]
  },
  {
   "cell_type": "markdown",
   "metadata": {},
   "source": [
    "## Операции над строками\n",
    "\n",
    "Python предоставляет широкие возможности для работы над строками. Сейчас рассмотрим базовые, когда строки могут быть представлены в виде переменных над которыми возможно ограниченное количество выражений.\n",
    "\n",
    "Так с помощью оператора `+` можно склеивать две или более строк."
   ]
  },
  {
   "cell_type": "code",
   "execution_count": null,
   "metadata": {},
   "outputs": [],
   "source": [
    "str1 = \"Жыве Беларусь\"\n",
    "str2 = \"Жыве вечна\"\n",
    "print(str1 + \"! \" + str2 + \"!\")\n",
    "print(str1, \"!\", str2, \"!\")\n",
    "print(str1, \"! \", str2, \"!\", sep=\"\")"
   ]
  },
  {
   "cell_type": "markdown",
   "metadata": {},
   "source": [
    "Складывать число со строкой (и наоборот) нельзя. Но можно воспользоваться функцией `str`, которая по числу генерирует строку."
   ]
  },
  {
   "cell_type": "code",
   "execution_count": null,
   "metadata": {},
   "outputs": [],
   "source": [
    "answer = '2 + 3 = ' + str(2 + 3)\n",
    "print(answer)"
   ]
  }
 ],
 "metadata": {
  "interpreter": {
   "hash": "63fd5069d213b44bf678585dea6b12cceca9941eaf7f819626cde1f2670de90d"
  },
  "kernelspec": {
   "display_name": "Python 3.9.7 64-bit",
   "name": "python3"
  },
  "language_info": {
   "codemirror_mode": {
    "name": "ipython",
    "version": 3
   },
   "file_extension": ".py",
   "mimetype": "text/x-python",
   "name": "python",
   "nbconvert_exporter": "python",
   "pygments_lexer": "ipython3",
   "version": "3.9.7"
  }
 },
 "nbformat": 4,
 "nbformat_minor": 5
}
