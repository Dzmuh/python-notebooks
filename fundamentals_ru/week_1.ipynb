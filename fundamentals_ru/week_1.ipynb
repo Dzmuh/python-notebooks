{
 "cells": [
  {
   "cell_type": "markdown",
   "id": "2bfe576d-a177-4971-b9f2-3f975153aee1",
   "metadata": {},
   "source": [
    "# Основы программирования на Python. Первая неделя. Целые числа, ввод-вывод, простые операции со строками\n",
    "\n",
    "Цель: научится простейшему вводу-выводу данных и применению арифметических операций для целых чисел.\n"
   ]
  },
  {
   "cell_type": "markdown",
   "metadata": {},
   "source": [
    "## Типы данных и функции вывода"
   ]
  },
  {
   "cell_type": "markdown",
   "metadata": {},
   "source": [
    "### Функция вывода print()\n",
    "\n",
    "Функция вывода `print()` может служить для вывода текста и результатов арифметических операций.\n",
    "Текст обычно оборачивается в двойные кавычки, однако можно использовать и одинарные."
   ]
  },
  {
   "cell_type": "code",
   "execution_count": 9,
   "metadata": {},
   "outputs": [
    {
     "name": "stdout",
     "output_type": "stream",
     "text": [
      "Hello world!\n",
      "Hello world!\n",
      "2\n",
      "11\n",
      "Hello world!\n"
     ]
    }
   ],
   "source": [
    "print(\"Hello world!\")\n",
    "print('Hello world!')\n",
    "print(1 + 1)\n",
    "print(\"1\" + \"1\")\n",
    "print(\"Hello \" + \"world!\")"
   ]
  },
  {
   "cell_type": "code",
   "execution_count": null,
   "metadata": {},
   "outputs": [],
   "source": []
  }
 ],
 "metadata": {
  "interpreter": {
   "hash": "63fd5069d213b44bf678585dea6b12cceca9941eaf7f819626cde1f2670de90d"
  },
  "kernelspec": {
   "display_name": "Python 3.9.7 64-bit",
   "name": "python3"
  },
  "language_info": {
   "codemirror_mode": {
    "name": "ipython",
    "version": 3
   },
   "file_extension": ".py",
   "mimetype": "text/x-python",
   "name": "python",
   "nbconvert_exporter": "python",
   "pygments_lexer": "ipython3",
   "version": "3.9.7"
  }
 },
 "nbformat": 4,
 "nbformat_minor": 5
}
