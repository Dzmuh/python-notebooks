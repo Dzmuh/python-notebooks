{
 "cells": [
  {
   "cell_type": "markdown",
   "metadata": {},
   "source": [
    "# Задача по делёжке яблок\n",
    "\n",
    "## Задача по делёжке яблок 1\n",
    "\n",
    "N школьников делят K яблок поровну, не делящийся остаток остается в корзинке. Сколько яблок достанется каждому школьнику?"
   ]
  },
  {
   "cell_type": "code",
   "execution_count": null,
   "metadata": {},
   "outputs": [],
   "source": [
    "apples = int(input())\n",
    "childs = int(input())\n",
    "\n",
    "print(\"Яблок: \", apples)\n",
    "print(\"Школьников: \", childs)\n",
    "\n",
    "r = apples // childs\n",
    "print(\"Яблок на рыло: \", r)\n",
    "print(r)\n"
   ]
  },
  {
   "cell_type": "markdown",
   "metadata": {},
   "source": [
    "## Задача по делёжке яблок 2\n",
    "\n",
    "N школьников поделили K яблок поровну, не делящийся остаток остался в корзинке. Сколько яблок осталось в корзинке?"
   ]
  },
  {
   "cell_type": "code",
   "execution_count": null,
   "metadata": {},
   "outputs": [],
   "source": [
    "childs = int(input())\n",
    "apples = int(input())\n",
    "print(apples % childs)"
   ]
  }
 ],
 "metadata": {
  "interpreter": {
   "hash": "63fd5069d213b44bf678585dea6b12cceca9941eaf7f819626cde1f2670de90d"
  },
  "kernelspec": {
   "display_name": "Python 3.9.7 64-bit",
   "name": "python3"
  },
  "language_info": {
   "codemirror_mode": {
    "name": "ipython",
    "version": 3
   },
   "file_extension": ".py",
   "mimetype": "text/x-python",
   "name": "python",
   "nbconvert_exporter": "python",
   "pygments_lexer": "ipython3",
   "version": "3.9.7"
  },
  "orig_nbformat": 4
 },
 "nbformat": 4,
 "nbformat_minor": 2
}
