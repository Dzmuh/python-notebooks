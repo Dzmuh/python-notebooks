{
 "cells": [
  {
   "cell_type": "markdown",
   "metadata": {},
   "source": [
    "# Числа\n",
    "\n",
    "Работаем с числами посредством простой арифметики"
   ]
  },
  {
   "cell_type": "markdown",
   "metadata": {},
   "source": [
    "## Последняя цифра\n",
    "\n",
    "Дано натуральное число. Выведите его последнюю цифру.\n",
    "\n",
    "**Формат ввода**: Вводится единственное целое положительное число.\n",
    "\n",
    "Для решения задачи в рамках тех знаний что были получены в первую неделю, можно использовать деление на 10, а точнее его остаток."
   ]
  },
  {
   "cell_type": "code",
   "execution_count": null,
   "metadata": {},
   "outputs": [],
   "source": [
    "N = int(input())\n",
    "print(N % 10)"
   ]
  },
  {
   "cell_type": "markdown",
   "metadata": {},
   "source": [
    "## Первая цифра двузначного числа\n",
    "\n",
    "Дано положительное двузначное число. Найдите число десятков в нем.\n",
    "\n",
    "**Формат ввода**: Вводится единственное число (гарантируется, что оно соответствует условию задачи).\n",
    "\n",
    "Для решения задачи в рамках тех знаний что были получены в первую неделю, можно использовать целочисленное деление на 10."
   ]
  },
  {
   "cell_type": "code",
   "execution_count": null,
   "metadata": {},
   "outputs": [],
   "source": [
    "N = int(input())\n",
    "print(N // 10)"
   ]
  },
  {
   "cell_type": "markdown",
   "metadata": {},
   "source": [
    "## Вторая справа цифра\n",
    "\n",
    "Дано натуральное число. Найдите цифру, стоящую в разряде десятков в его десятичной записи (вторую справа цифру или 0, если число меньше 10).\n",
    "\n",
    "**Формат ввода**: Вводится единственное число"
   ]
  },
  {
   "cell_type": "code",
   "execution_count": null,
   "metadata": {},
   "outputs": [],
   "source": [
    "N = int(input())\n",
    "print((N // 10) % 10)"
   ]
  },
  {
   "cell_type": "markdown",
   "metadata": {},
   "source": [
    "## Сумма цифр трехзначного числа\n",
    "\n",
    "Дано трехзначное число. Найдите сумму его цифр."
   ]
  },
  {
   "cell_type": "code",
   "execution_count": null,
   "metadata": {},
   "outputs": [],
   "source": [
    "N = int(input())\n",
    "a1 = N // 100\n",
    "a2 = (N // 10) % 10\n",
    "a3 = N % 10\n",
    "print(a1 + a2 + a3)"
   ]
  },
  {
   "cell_type": "markdown",
   "metadata": {},
   "source": [
    "## Электронные часы-1\n",
    "\n",
    "Дано число N. С начала суток прошло N минут. Определите, сколько часов и минут будут показывать электронные часы в этот момент.\n",
    "\n",
    "**Формат ввода**: Вводится число N —  целое, положительное, не превышает 10⁷.\n",
    "\n",
    "**Формат вывода**: Программа должна вывести два числа: количество часов (от 0 до 23) и количество минут (от 0 до 59).\\\n",
    "Учтите, что число N может быть больше, чем количество минут в сутках."
   ]
  },
  {
   "cell_type": "code",
   "execution_count": null,
   "metadata": {},
   "outputs": [],
   "source": [
    "N = int(input())\n",
    "M = N % 1440\n",
    "\n",
    "print(M // 60, M % 60)"
   ]
  },
  {
   "cell_type": "markdown",
   "metadata": {},
   "source": [
    "## Отрезаем заданное количество цифр от числа\n",
    "\n",
    "Дано число N. Нужно отрезать от его конца заданное количество цифр.\n",
    "Сделаем с помощью магии деления и возведения в степень."
   ]
  },
  {
   "cell_type": "code",
   "execution_count": null,
   "metadata": {},
   "outputs": [],
   "source": [
    "N = int(input())\n",
    "K = int(input())\n",
    "print(N)\n",
    "print(N // 10 ** K)"
   ]
  },
  {
   "cell_type": "markdown",
   "metadata": {},
   "source": [
    "## Целочисленное деление и округление вверх\n",
    "\n",
    "Простой пример того как округлить результат деления вверх используя простые математические операции."
   ]
  },
  {
   "cell_type": "code",
   "execution_count": null,
   "metadata": {},
   "outputs": [],
   "source": [
    "print(9 / 4)\n",
    "print(9 // 4)\n",
    "print((9 + 4 - 1) // 4)\n",
    "\n",
    "print(11 / 4)\n",
    "print(11 // 4)\n",
    "print((11 + 4 - 1) // 4)\n",
    "\n",
    "print(11 / 1)\n",
    "print(11 // 1)\n",
    "print((11 + 1 - 1) // 1)\n",
    "\n",
    "print(9 / 4)\n",
    "print(9 // 4)\n",
    "print((9 - 1) // 4 + 1)\n",
    "\n",
    "print(11 / 4)\n",
    "print(11 // 4)\n",
    "print((11 - 1) // 4 + 1)\n",
    "\n",
    "print(12 / 6)\n",
    "print(12 // 6)\n",
    "print((12 - 1) // 6 + 1)"
   ]
  }
 ],
 "metadata": {
  "interpreter": {
   "hash": "63fd5069d213b44bf678585dea6b12cceca9941eaf7f819626cde1f2670de90d"
  },
  "kernelspec": {
   "display_name": "Python 3.9.7 64-bit",
   "name": "python3"
  },
  "language_info": {
   "codemirror_mode": {
    "name": "ipython",
    "version": 3
   },
   "file_extension": ".py",
   "mimetype": "text/x-python",
   "name": "python",
   "nbconvert_exporter": "python",
   "pygments_lexer": "ipython3",
   "version": "3.9.7"
  },
  "orig_nbformat": 4
 },
 "nbformat": 4,
 "nbformat_minor": 2
}
