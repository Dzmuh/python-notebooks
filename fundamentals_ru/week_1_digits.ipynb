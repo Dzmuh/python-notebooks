{
 "cells": [
  {
   "cell_type": "markdown",
   "metadata": {},
   "source": [
    "# Числа\n",
    "\n",
    "Работаем с числами посредством простой арифметики"
   ]
  },
  {
   "cell_type": "markdown",
   "metadata": {},
   "source": [
    "## Последняя цифра\n",
    "\n",
    "Дано натуральное число. Выведите его последнюю цифру.\n",
    "\n",
    "**Формат ввода**: Вводится единственное целое положительное число.\n",
    "\n",
    "Для решения задачи в рамках тех знаний что были получены в первую неделю, можно использовать деление на 10, а точнее его остаток."
   ]
  },
  {
   "cell_type": "code",
   "execution_count": null,
   "metadata": {},
   "outputs": [],
   "source": [
    "N = int(input())\n",
    "print(N % 10)"
   ]
  },
  {
   "cell_type": "markdown",
   "metadata": {},
   "source": [
    "## Первая цифра двузначного числа\n",
    "\n",
    "Дано положительное двузначное число. Найдите число десятков в нем.\n",
    "\n",
    "**Формат ввода**: Вводится единственное число (гарантируется, что оно соответствует условию задачи).\n",
    "\n",
    "Для решения задачи в рамках тех знаний что были получены в первую неделю, можно использовать целочисленное деление на 10."
   ]
  },
  {
   "cell_type": "code",
   "execution_count": null,
   "metadata": {},
   "outputs": [],
   "source": [
    "N = int(input())\n",
    "print(N // 10)"
   ]
  },
  {
   "cell_type": "markdown",
   "metadata": {},
   "source": [
    "## Вторая справа цифра\n",
    "\n",
    "Дано натуральное число. Найдите цифру, стоящую в разряде десятков в его десятичной записи (вторую справа цифру или 0, если число меньше 10).\n",
    "\n",
    "**Формат ввода**: Вводится единственное число"
   ]
  },
  {
   "cell_type": "code",
   "execution_count": null,
   "metadata": {},
   "outputs": [],
   "source": [
    "N = int(input())\n",
    "print((N // 10) % 10)"
   ]
  },
  {
   "cell_type": "markdown",
   "metadata": {},
   "source": [
    "## Сумма цифр трехзначного числа\n",
    "\n",
    "Дано трехзначное число. Найдите сумму его цифр."
   ]
  },
  {
   "cell_type": "code",
   "execution_count": null,
   "metadata": {},
   "outputs": [],
   "source": [
    "N = int(input())\n",
    "a1 = N // 100\n",
    "a2 = (N // 10) % 10\n",
    "a3 = N % 10\n",
    "print(a1 + a2 + a3)"
   ]
  }
 ],
 "metadata": {
  "interpreter": {
   "hash": "63fd5069d213b44bf678585dea6b12cceca9941eaf7f819626cde1f2670de90d"
  },
  "kernelspec": {
   "display_name": "Python 3.9.7 64-bit",
   "name": "python3"
  },
  "language_info": {
   "codemirror_mode": {
    "name": "ipython",
    "version": 3
   },
   "file_extension": ".py",
   "mimetype": "text/x-python",
   "name": "python",
   "nbconvert_exporter": "python",
   "pygments_lexer": "ipython3",
   "version": "3.9.7"
  },
  "orig_nbformat": 4
 },
 "nbformat": 4,
 "nbformat_minor": 2
}
