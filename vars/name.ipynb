{
 "cells": [
  {
   "cell_type": "markdown",
   "metadata": {},
   "source": [
    "# Специальная переменная \\_\\_name\\_\\_"
   ]
  },
  {
   "cell_type": "markdown",
   "metadata": {},
   "source": [
    "Когда интерпретатор Python читает файл, то сначала он устанавливает несколько специальных переменных, вроде тех что представлены в `locals()` и `globals()`. Одной из таких переменных является `__name__`.\n",
    "\n",
    "Если скрипт был запущен напрямую, то в переменную присваивается значение `__main__`, в случае импорта — название модуля. Типичный пример использования такой переменной — создание точки входа в программу. Вообще атрибут `__name__` по умолчанию также ставится всем классам и функциям."
   ]
  },
  {
   "cell_type": "code",
   "execution_count": null,
   "metadata": {},
   "outputs": [],
   "source": [
    "import math\n",
    "\n",
    "class A:\n",
    "    pass\n",
    "\n",
    "def B():\n",
    "    pass\n",
    "\n",
    "print(math.__name__)\n",
    "print(A.__name__)\n",
    "print(B.__name__)\n",
    "\n",
    "print(__name__)"
   ]
  }
 ],
 "metadata": {
  "interpreter": {
   "hash": "63fd5069d213b44bf678585dea6b12cceca9941eaf7f819626cde1f2670de90d"
  },
  "kernelspec": {
   "display_name": "Python 3.9.7 64-bit",
   "name": "python3"
  },
  "language_info": {
   "codemirror_mode": {
    "name": "ipython",
    "version": 3
   },
   "file_extension": ".py",
   "mimetype": "text/x-python",
   "name": "python",
   "nbconvert_exporter": "python",
   "pygments_lexer": "ipython3",
   "version": "3.9.7"
  },
  "orig_nbformat": 4
 },
 "nbformat": 4,
 "nbformat_minor": 2
}
